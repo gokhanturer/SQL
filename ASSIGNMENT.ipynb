{
    "metadata": {
        "kernelspec": {
            "name": "SQL",
            "display_name": "SQL",
            "language": "sql"
        },
        "language_info": {
            "name": "sql",
            "version": ""
        }
    },
    "nbformat_minor": 2,
    "nbformat": 4,
    "cells": [
        {
            "cell_type": "code",
            "source": [
                "select * from Bank5\n",
                "select * from Bank6\n",
                "SELECT coalesce(sender, receiver) AS bank_user,\n",
                "coalesce(Totalin, 0) - coalesce(Totalsent, 0) AS net_change\n",
                "FROM Bank5\n",
                "FULL JOIN Bank6\n",
                "ON Bank5.Sender=Bank6.ReceiverCREATE TABLE Banks(\n",
                "    Sender int,\n",
                "    Receiver int,\n",
                "    Amount int,\n",
                "    Transaction_date datetime\n",
                ");\n",
                "INSERT INTO Banks(Sender, Receiver, Amount, Transaction_date)\n",
                "VALUES\n",
                "( 5,2,10,2-12-20), ( 1,3,15,2-13-20), ( 2,1,20,2-13-20),( 2,3,25,2-14-20),( 3,1,20,2-15-20),\n",
                "( 3,2,15,2-15-20),( 1,4,5,2-16-20);\n",
                "---\n",
                "select Sender,sum(Amount) as Totalsent into Bank5\n",
                "from Banks\n",
                "group by Sender\n",
                "--\n",
                "select Receiver, sum(Amount) as Totalin into Bank6\n",
                "from Banks\n",
                "group by Receiver\n",
                "---\n",
                "C"
            ],
            "metadata": {
                "azdata_cell_guid": "ca38e5c5-75b7-477a-ac8c-0f63b3f13da1",
                "tags": []
            },
            "outputs": [
                {
                    "output_type": "error",
                    "ename": "",
                    "evalue": "Msg 2714, Level 16, State 6, Line 1\nThere is already an object named 'Banks' in the database.",
                    "traceback": []
                },
                {
                    "output_type": "display_data",
                    "data": {
                        "text/html": "Total execution time: 00:00:00.003"
                    },
                    "metadata": {}
                }
            ],
            "execution_count": 15
        },
        {
            "cell_type": "code",
            "source": [
                "select Sender,sum(Amount) as Totalsent into Bank5\n",
                "from Banks\n",
                "group by Sender"
            ],
            "metadata": {
                "azdata_cell_guid": "f51953bd-3b4f-4b94-815a-f2a0c50fb4ac"
            },
            "outputs": [
                {
                    "output_type": "error",
                    "ename": "",
                    "evalue": "Msg 2714, Level 16, State 6, Line 1\nThere is already an object named 'Bank5' in the database.",
                    "traceback": []
                },
                {
                    "output_type": "display_data",
                    "data": {
                        "text/html": "Total execution time: 00:00:00.016"
                    },
                    "metadata": {}
                }
            ],
            "execution_count": 16
        },
        {
            "cell_type": "code",
            "source": [
                "--\n",
                "select Receiver, sum(Amount) as Totalin into Bank6\n",
                "from Banks\n",
                "group by Receiver"
            ],
            "metadata": {
                "azdata_cell_guid": "2bfe42ed-a776-4766-9f6f-59a9666ebae0"
            },
            "outputs": [
                {
                    "output_type": "error",
                    "ename": "",
                    "evalue": "Msg 2714, Level 16, State 6, Line 2\nThere is already an object named 'Bank6' in the database.",
                    "traceback": []
                },
                {
                    "output_type": "display_data",
                    "data": {
                        "text/html": "Total execution time: 00:00:00.006"
                    },
                    "metadata": {}
                }
            ],
            "execution_count": 17
        },
        {
            "cell_type": "code",
            "source": [
                ""
            ],
            "metadata": {
                "azdata_cell_guid": "b7fe9a90-c4fd-43ca-a5b1-a447a1d0da14"
            },
            "outputs": [
                {
                    "output_type": "display_data",
                    "data": {
                        "text/html": "(4 rows affected)"
                    },
                    "metadata": {}
                },
                {
                    "output_type": "display_data",
                    "data": {
                        "text/html": "(4 rows affected)"
                    },
                    "metadata": {}
                },
                {
                    "output_type": "display_data",
                    "data": {
                        "text/html": "(5 rows affected)"
                    },
                    "metadata": {}
                },
                {
                    "output_type": "display_data",
                    "data": {
                        "text/html": "Total execution time: 00:00:00.018"
                    },
                    "metadata": {}
                },
                {
                    "output_type": "execute_result",
                    "execution_count": 18,
                    "data": {
                        "application/vnd.dataresource+json": {
                            "schema": {
                                "fields": [
                                    {
                                        "name": "Sender"
                                    },
                                    {
                                        "name": "Totalsent"
                                    }
                                ]
                            },
                            "data": [
                                {
                                    "0": "1",
                                    "1": "20"
                                },
                                {
                                    "0": "2",
                                    "1": "45"
                                },
                                {
                                    "0": "3",
                                    "1": "35"
                                },
                                {
                                    "0": "5",
                                    "1": "10"
                                }
                            ]
                        },
                        "text/html": "<table><tr><th>Sender</th><th>Totalsent</th></tr><tr><td>1</td><td>20</td></tr><tr><td>2</td><td>45</td></tr><tr><td>3</td><td>35</td></tr><tr><td>5</td><td>10</td></tr></table>"
                    },
                    "metadata": {}
                },
                {
                    "output_type": "execute_result",
                    "execution_count": 18,
                    "data": {
                        "application/vnd.dataresource+json": {
                            "schema": {
                                "fields": [
                                    {
                                        "name": "Receiver"
                                    },
                                    {
                                        "name": "Totalin"
                                    }
                                ]
                            },
                            "data": [
                                {
                                    "0": "1",
                                    "1": "40"
                                },
                                {
                                    "0": "2",
                                    "1": "25"
                                },
                                {
                                    "0": "3",
                                    "1": "40"
                                },
                                {
                                    "0": "4",
                                    "1": "5"
                                }
                            ]
                        },
                        "text/html": "<table><tr><th>Receiver</th><th>Totalin</th></tr><tr><td>1</td><td>40</td></tr><tr><td>2</td><td>25</td></tr><tr><td>3</td><td>40</td></tr><tr><td>4</td><td>5</td></tr></table>"
                    },
                    "metadata": {}
                },
                {
                    "output_type": "execute_result",
                    "execution_count": 18,
                    "data": {
                        "application/vnd.dataresource+json": {
                            "schema": {
                                "fields": [
                                    {
                                        "name": "bank_user"
                                    },
                                    {
                                        "name": "net_change"
                                    }
                                ]
                            },
                            "data": [
                                {
                                    "0": "1",
                                    "1": "20"
                                },
                                {
                                    "0": "2",
                                    "1": "-20"
                                },
                                {
                                    "0": "3",
                                    "1": "5"
                                },
                                {
                                    "0": "5",
                                    "1": "-10"
                                },
                                {
                                    "0": "4",
                                    "1": "5"
                                }
                            ]
                        },
                        "text/html": "<table><tr><th>bank_user</th><th>net_change</th></tr><tr><td>1</td><td>20</td></tr><tr><td>2</td><td>-20</td></tr><tr><td>3</td><td>5</td></tr><tr><td>5</td><td>-10</td></tr><tr><td>4</td><td>5</td></tr></table>"
                    },
                    "metadata": {}
                }
            ],
            "execution_count": 18
        }
    ]
}